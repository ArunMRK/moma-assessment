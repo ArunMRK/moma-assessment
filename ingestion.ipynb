{
 "cells": [
  {
   "cell_type": "code",
   "execution_count": 2,
   "metadata": {},
   "outputs": [
    {
     "data": {
      "text/plain": [
       "True"
      ]
     },
     "execution_count": 2,
     "metadata": {},
     "output_type": "execute_result"
    }
   ],
   "source": [
    "from dotenv import load_dotenv\n",
    "import os\n",
    "load_dotenv(override=True, verbose=True)"
   ]
  },
  {
   "cell_type": "code",
   "execution_count": 3,
   "metadata": {},
   "outputs": [],
   "source": [
    "import psycopg2\n",
    "import psycopg2.extras\n",
    "import pandas as pd"
   ]
  },
  {
   "cell_type": "code",
   "execution_count": 4,
   "metadata": {},
   "outputs": [],
   "source": [
    "RDS_DB = os.getenv(\"DB_NAME\")\n",
    "RDS_USER = os.getenv(\"DB_USER\")\n",
    "RDS_PASSWORD = os.getenv(\"DB_PASSWORD\")\n",
    "RDS_HOST = os.getenv(\"DB_HOST\")"
   ]
  },
  {
   "cell_type": "code",
   "execution_count": 5,
   "metadata": {},
   "outputs": [
    {
     "name": "stdout",
     "output_type": "stream",
     "text": [
      "trumpet.db.elephantsql.com\n"
     ]
    }
   ],
   "source": [
    "print(RDS_HOST)"
   ]
  },
  {
   "cell_type": "code",
   "execution_count": 6,
   "metadata": {},
   "outputs": [],
   "source": [
    "\n",
    "def get_db_connection() -> psycopg2.extensions.connection:\n",
    "    \"\"\" Create a connection for database postgres Aurora\"\"\"\n",
    "    try:\n",
    "        conn = psycopg2.connect(f\"\"\"\n",
    "    dbname={RDS_DB}\n",
    "    user={RDS_USER} \n",
    "    password={RDS_PASSWORD}\n",
    "    host={RDS_HOST}\"\"\")\n",
    "        return conn\n",
    "    except:\n",
    "        print(\"Error connecting to database.\")"
   ]
  },
  {
   "cell_type": "code",
   "execution_count": 7,
   "metadata": {},
   "outputs": [],
   "source": [
    "conn=get_db_connection()"
   ]
  },
  {
   "cell_type": "code",
   "execution_count": 8,
   "metadata": {},
   "outputs": [],
   "source": [
    "cursor=conn.cursor()"
   ]
  },
  {
   "cell_type": "code",
   "execution_count": 9,
   "metadata": {},
   "outputs": [],
   "source": [
    "cursor.execute('''SELECT * FROM artist''')"
   ]
  },
  {
   "cell_type": "code",
   "execution_count": 10,
   "metadata": {},
   "outputs": [
    {
     "name": "stdout",
     "output_type": "stream",
     "text": [
      "artwork_id\n",
      "title\n",
      "year_completed\n",
      "department\n",
      "artist_id\n"
     ]
    }
   ],
   "source": [
    "sql = '''SELECT * FROM artwork'''\n",
    "  \n",
    "  \n",
    "cursor.execute(sql)\n",
    "column_names = [desc[0] for desc in cursor.description]\n",
    "for i in column_names:\n",
    "    print(i)\n",
    "conn.commit()\n"
   ]
  },
  {
   "cell_type": "code",
   "execution_count": 11,
   "metadata": {},
   "outputs": [
    {
     "name": "stdout",
     "output_type": "stream",
     "text": [
      "artist_id\n",
      "artist_name\n",
      "nationality\n",
      "gender\n",
      "year_start\n",
      "year_end\n"
     ]
    }
   ],
   "source": [
    "sql = '''SELECT * FROM artist'''\n",
    "  \n",
    "  \n",
    "cursor.execute(sql)\n",
    "column_names = [desc[0] for desc in cursor.description]\n",
    "for i in column_names:\n",
    "    print(i)\n",
    "conn.commit()\n"
   ]
  },
  {
   "cell_type": "code",
   "execution_count": 12,
   "metadata": {},
   "outputs": [
    {
     "name": "stderr",
     "output_type": "stream",
     "text": [
      "/var/folders/n3/ffwxys9n7_g_dzzr0q172hp40000gn/T/ipykernel_4461/1321347188.py:1: UserWarning: pandas only supports SQLAlchemy connectable (engine/connection) or database string URI or sqlite3 DBAPI2 connection. Other DBAPI2 objects are not tested. Please consider using SQLAlchemy.\n",
      "  artist_query=pd.read_sql_query(\n"
     ]
    }
   ],
   "source": [
    "artist_query=pd.read_sql_query(\n",
    "    '''\n",
    "    SELECT \n",
    "    * FROM\n",
    "    artist\n",
    "    ''',\n",
    "    conn\n",
    ")"
   ]
  },
  {
   "cell_type": "code",
   "execution_count": 13,
   "metadata": {},
   "outputs": [
    {
     "name": "stderr",
     "output_type": "stream",
     "text": [
      "/var/folders/n3/ffwxys9n7_g_dzzr0q172hp40000gn/T/ipykernel_4461/2940186248.py:1: UserWarning: pandas only supports SQLAlchemy connectable (engine/connection) or database string URI or sqlite3 DBAPI2 connection. Other DBAPI2 objects are not tested. Please consider using SQLAlchemy.\n",
      "  artwork_query=pd.read_sql_query(\n"
     ]
    }
   ],
   "source": [
    "artwork_query=pd.read_sql_query(\n",
    "    '''\n",
    "    SELECT \n",
    "    * FROM\n",
    "    artwork\n",
    "    ''',\n",
    "    conn\n",
    ")"
   ]
  },
  {
   "cell_type": "code",
   "execution_count": 14,
   "metadata": {},
   "outputs": [],
   "source": [
    "artist_df=pd.DataFrame(artist_query, columns=['artist_id','artist_name','nationality','gender','year_start','year_end'])"
   ]
  },
  {
   "cell_type": "code",
   "execution_count": 15,
   "metadata": {},
   "outputs": [],
   "source": [
    "artwork_df=pd.DataFrame(artwork_query, columns=['artwork_id','title','year_completed','department','artist_id'])"
   ]
  },
  {
   "cell_type": "code",
   "execution_count": 16,
   "metadata": {},
   "outputs": [
    {
     "data": {
      "text/html": [
       "<div>\n",
       "<style scoped>\n",
       "    .dataframe tbody tr th:only-of-type {\n",
       "        vertical-align: middle;\n",
       "    }\n",
       "\n",
       "    .dataframe tbody tr th {\n",
       "        vertical-align: top;\n",
       "    }\n",
       "\n",
       "    .dataframe thead th {\n",
       "        text-align: right;\n",
       "    }\n",
       "</style>\n",
       "<table border=\"1\" class=\"dataframe\">\n",
       "  <thead>\n",
       "    <tr style=\"text-align: right;\">\n",
       "      <th></th>\n",
       "      <th>artist_id</th>\n",
       "      <th>artist_name</th>\n",
       "      <th>nationality</th>\n",
       "      <th>gender</th>\n",
       "      <th>year_start</th>\n",
       "      <th>year_end</th>\n",
       "    </tr>\n",
       "  </thead>\n",
       "  <tbody>\n",
       "    <tr>\n",
       "      <th>40</th>\n",
       "      <td>7500</td>\n",
       "      <td>Raymond Pettibon</td>\n",
       "      <td>American</td>\n",
       "      <td>Male</td>\n",
       "      <td>1957</td>\n",
       "      <td>0</td>\n",
       "    </tr>\n",
       "    <tr>\n",
       "      <th>150</th>\n",
       "      <td>74941</td>\n",
       "      <td>Enrique Ramírez</td>\n",
       "      <td>Chilean</td>\n",
       "      <td>Male</td>\n",
       "      <td>1979</td>\n",
       "      <td>0</td>\n",
       "    </tr>\n",
       "    <tr>\n",
       "      <th>77</th>\n",
       "      <td>25414</td>\n",
       "      <td>Julie Mehretu</td>\n",
       "      <td>American</td>\n",
       "      <td>Female</td>\n",
       "      <td>1970</td>\n",
       "      <td>0</td>\n",
       "    </tr>\n",
       "    <tr>\n",
       "      <th>103</th>\n",
       "      <td>28834</td>\n",
       "      <td>Cheyney Thompson</td>\n",
       "      <td>American</td>\n",
       "      <td>Male</td>\n",
       "      <td>1975</td>\n",
       "      <td>0</td>\n",
       "    </tr>\n",
       "    <tr>\n",
       "      <th>50</th>\n",
       "      <td>7855</td>\n",
       "      <td>Rachel Harrison</td>\n",
       "      <td>American</td>\n",
       "      <td>Female</td>\n",
       "      <td>1966</td>\n",
       "      <td>0</td>\n",
       "    </tr>\n",
       "    <tr>\n",
       "      <th>51</th>\n",
       "      <td>7919</td>\n",
       "      <td>William Kentridge</td>\n",
       "      <td>South African</td>\n",
       "      <td>Male</td>\n",
       "      <td>1955</td>\n",
       "      <td>0</td>\n",
       "    </tr>\n",
       "    <tr>\n",
       "      <th>86</th>\n",
       "      <td>27713</td>\n",
       "      <td>Trenton Doyle Hancock</td>\n",
       "      <td>American</td>\n",
       "      <td>Male</td>\n",
       "      <td>1974</td>\n",
       "      <td>0</td>\n",
       "    </tr>\n",
       "    <tr>\n",
       "      <th>53</th>\n",
       "      <td>7929</td>\n",
       "      <td>Joseph Grigely</td>\n",
       "      <td>American</td>\n",
       "      <td>Male</td>\n",
       "      <td>1956</td>\n",
       "      <td>0</td>\n",
       "    </tr>\n",
       "    <tr>\n",
       "      <th>120</th>\n",
       "      <td>33913</td>\n",
       "      <td>Trisha Donnelly</td>\n",
       "      <td>American</td>\n",
       "      <td>Female</td>\n",
       "      <td>1974</td>\n",
       "      <td>0</td>\n",
       "    </tr>\n",
       "    <tr>\n",
       "      <th>41</th>\n",
       "      <td>7525</td>\n",
       "      <td>Andrea Zittel</td>\n",
       "      <td>American</td>\n",
       "      <td>Female</td>\n",
       "      <td>1965</td>\n",
       "      <td>0</td>\n",
       "    </tr>\n",
       "  </tbody>\n",
       "</table>\n",
       "</div>"
      ],
      "text/plain": [
       "     artist_id            artist_name    nationality  gender  year_start  \\\n",
       "40        7500       Raymond Pettibon       American    Male        1957   \n",
       "150      74941        Enrique Ramírez        Chilean    Male        1979   \n",
       "77       25414          Julie Mehretu       American  Female        1970   \n",
       "103      28834       Cheyney Thompson       American    Male        1975   \n",
       "50        7855        Rachel Harrison       American  Female        1966   \n",
       "51        7919      William Kentridge  South African    Male        1955   \n",
       "86       27713  Trenton Doyle Hancock       American    Male        1974   \n",
       "53        7929         Joseph Grigely       American    Male        1956   \n",
       "120      33913        Trisha Donnelly       American  Female        1974   \n",
       "41        7525          Andrea Zittel       American  Female        1965   \n",
       "\n",
       "     year_end  \n",
       "40          0  \n",
       "150         0  \n",
       "77          0  \n",
       "103         0  \n",
       "50          0  \n",
       "51          0  \n",
       "86          0  \n",
       "53          0  \n",
       "120         0  \n",
       "41          0  "
      ]
     },
     "execution_count": 16,
     "metadata": {},
     "output_type": "execute_result"
    }
   ],
   "source": [
    "artist_df.sample(10)"
   ]
  },
  {
   "cell_type": "code",
   "execution_count": 17,
   "metadata": {},
   "outputs": [
    {
     "data": {
      "text/html": [
       "<div>\n",
       "<style scoped>\n",
       "    .dataframe tbody tr th:only-of-type {\n",
       "        vertical-align: middle;\n",
       "    }\n",
       "\n",
       "    .dataframe tbody tr th {\n",
       "        vertical-align: top;\n",
       "    }\n",
       "\n",
       "    .dataframe thead th {\n",
       "        text-align: right;\n",
       "    }\n",
       "</style>\n",
       "<table border=\"1\" class=\"dataframe\">\n",
       "  <thead>\n",
       "    <tr style=\"text-align: right;\">\n",
       "      <th></th>\n",
       "      <th>artwork_id</th>\n",
       "      <th>title</th>\n",
       "      <th>year_completed</th>\n",
       "      <th>department</th>\n",
       "      <th>artist_id</th>\n",
       "    </tr>\n",
       "  </thead>\n",
       "  <tbody>\n",
       "    <tr>\n",
       "      <th>1689</th>\n",
       "      <td>1684</td>\n",
       "      <td>The American War</td>\n",
       "      <td>2005</td>\n",
       "      <td>Photography</td>\n",
       "      <td>35134</td>\n",
       "    </tr>\n",
       "    <tr>\n",
       "      <th>1880</th>\n",
       "      <td>1875</td>\n",
       "      <td>Untitled</td>\n",
       "      <td>2002</td>\n",
       "      <td>Drawings &amp; Prints</td>\n",
       "      <td>710</td>\n",
       "    </tr>\n",
       "    <tr>\n",
       "      <th>1620</th>\n",
       "      <td>1615</td>\n",
       "      <td>Hold My Bones</td>\n",
       "      <td>2000</td>\n",
       "      <td>Drawings &amp; Prints</td>\n",
       "      <td>710</td>\n",
       "    </tr>\n",
       "    <tr>\n",
       "      <th>850</th>\n",
       "      <td>849</td>\n",
       "      <td>Untitled</td>\n",
       "      <td>2003</td>\n",
       "      <td>Drawings &amp; Prints</td>\n",
       "      <td>28831</td>\n",
       "    </tr>\n",
       "    <tr>\n",
       "      <th>1040</th>\n",
       "      <td>1038</td>\n",
       "      <td>Study for Do the Dance</td>\n",
       "      <td>2005</td>\n",
       "      <td>Drawings &amp; Prints</td>\n",
       "      <td>4185</td>\n",
       "    </tr>\n",
       "    <tr>\n",
       "      <th>4830</th>\n",
       "      <td>4818</td>\n",
       "      <td>Sopla / Gust the wind from Recurrent Goya</td>\n",
       "      <td>2015</td>\n",
       "      <td>Drawings &amp; Prints</td>\n",
       "      <td>7480</td>\n",
       "    </tr>\n",
       "    <tr>\n",
       "      <th>3381</th>\n",
       "      <td>3371</td>\n",
       "      <td>Jealousy Over the Breast</td>\n",
       "      <td>2008</td>\n",
       "      <td>Drawings &amp; Prints</td>\n",
       "      <td>710</td>\n",
       "    </tr>\n",
       "    <tr>\n",
       "      <th>5105</th>\n",
       "      <td>5092</td>\n",
       "      <td>Ode to Eugénie Grandet</td>\n",
       "      <td>2007</td>\n",
       "      <td>Drawings &amp; Prints</td>\n",
       "      <td>710</td>\n",
       "    </tr>\n",
       "    <tr>\n",
       "      <th>2191</th>\n",
       "      <td>2185</td>\n",
       "      <td>Untitled</td>\n",
       "      <td>2002</td>\n",
       "      <td>Drawings &amp; Prints</td>\n",
       "      <td>710</td>\n",
       "    </tr>\n",
       "    <tr>\n",
       "      <th>74</th>\n",
       "      <td>75</td>\n",
       "      <td>Afloat</td>\n",
       "      <td>2001</td>\n",
       "      <td>Drawings &amp; Prints</td>\n",
       "      <td>8197</td>\n",
       "    </tr>\n",
       "  </tbody>\n",
       "</table>\n",
       "</div>"
      ],
      "text/plain": [
       "      artwork_id                                      title  year_completed  \\\n",
       "1689        1684                           The American War            2005   \n",
       "1880        1875                                   Untitled            2002   \n",
       "1620        1615                              Hold My Bones            2000   \n",
       "850          849                                   Untitled            2003   \n",
       "1040        1038                     Study for Do the Dance            2005   \n",
       "4830        4818  Sopla / Gust the wind from Recurrent Goya            2015   \n",
       "3381        3371                   Jealousy Over the Breast            2008   \n",
       "5105        5092                     Ode to Eugénie Grandet            2007   \n",
       "2191        2185                                   Untitled            2002   \n",
       "74            75                                     Afloat            2001   \n",
       "\n",
       "             department  artist_id  \n",
       "1689        Photography      35134  \n",
       "1880  Drawings & Prints        710  \n",
       "1620  Drawings & Prints        710  \n",
       "850   Drawings & Prints      28831  \n",
       "1040  Drawings & Prints       4185  \n",
       "4830  Drawings & Prints       7480  \n",
       "3381  Drawings & Prints        710  \n",
       "5105  Drawings & Prints        710  \n",
       "2191  Drawings & Prints        710  \n",
       "74    Drawings & Prints       8197  "
      ]
     },
     "execution_count": 17,
     "metadata": {},
     "output_type": "execute_result"
    }
   ],
   "source": [
    "artwork_df.sample(10)"
   ]
  },
  {
   "cell_type": "code",
   "execution_count": 18,
   "metadata": {},
   "outputs": [],
   "source": [
    "df=pd.merge(artist_df,artwork_df,on='artist_id',how='inner')"
   ]
  },
  {
   "cell_type": "code",
   "execution_count": 19,
   "metadata": {},
   "outputs": [
    {
     "data": {
      "text/html": [
       "<div>\n",
       "<style scoped>\n",
       "    .dataframe tbody tr th:only-of-type {\n",
       "        vertical-align: middle;\n",
       "    }\n",
       "\n",
       "    .dataframe tbody tr th {\n",
       "        vertical-align: top;\n",
       "    }\n",
       "\n",
       "    .dataframe thead th {\n",
       "        text-align: right;\n",
       "    }\n",
       "</style>\n",
       "<table border=\"1\" class=\"dataframe\">\n",
       "  <thead>\n",
       "    <tr style=\"text-align: right;\">\n",
       "      <th></th>\n",
       "      <th>artist_id</th>\n",
       "      <th>artist_name</th>\n",
       "      <th>nationality</th>\n",
       "      <th>gender</th>\n",
       "      <th>year_start</th>\n",
       "      <th>year_end</th>\n",
       "      <th>artwork_id</th>\n",
       "      <th>title</th>\n",
       "      <th>year_completed</th>\n",
       "      <th>department</th>\n",
       "    </tr>\n",
       "  </thead>\n",
       "  <tbody>\n",
       "    <tr>\n",
       "      <th>3472</th>\n",
       "      <td>8193</td>\n",
       "      <td>James Welling</td>\n",
       "      <td>American</td>\n",
       "      <td>Male</td>\n",
       "      <td>1951</td>\n",
       "      <td>0</td>\n",
       "      <td>4207</td>\n",
       "      <td>30</td>\n",
       "      <td>2009</td>\n",
       "      <td>Photography</td>\n",
       "    </tr>\n",
       "    <tr>\n",
       "      <th>4684</th>\n",
       "      <td>28874</td>\n",
       "      <td>Wade Guyton</td>\n",
       "      <td>American</td>\n",
       "      <td>Male</td>\n",
       "      <td>1972</td>\n",
       "      <td>0</td>\n",
       "      <td>5401</td>\n",
       "      <td>Untitled (Untitled, 2013, Epson UltraChrome K3...</td>\n",
       "      <td>2015</td>\n",
       "      <td>Drawings &amp; Prints</td>\n",
       "    </tr>\n",
       "    <tr>\n",
       "      <th>4947</th>\n",
       "      <td>33825</td>\n",
       "      <td>Aleksandra Mir</td>\n",
       "      <td>American</td>\n",
       "      <td>Female</td>\n",
       "      <td>1967</td>\n",
       "      <td>0</td>\n",
       "      <td>3172</td>\n",
       "      <td>Homeboys greeting card, The Wrong Gallery, 2003</td>\n",
       "      <td>2003</td>\n",
       "      <td>Drawings &amp; Prints</td>\n",
       "    </tr>\n",
       "    <tr>\n",
       "      <th>1138</th>\n",
       "      <td>710</td>\n",
       "      <td>Louise Bourgeois</td>\n",
       "      <td>American</td>\n",
       "      <td>Female</td>\n",
       "      <td>1911</td>\n",
       "      <td>2010</td>\n",
       "      <td>3607</td>\n",
       "      <td>Untitled, plate 14 of 15, from the series, Nat...</td>\n",
       "      <td>2009</td>\n",
       "      <td>Drawings &amp; Prints</td>\n",
       "    </tr>\n",
       "    <tr>\n",
       "      <th>4620</th>\n",
       "      <td>28847</td>\n",
       "      <td>Kelley Walker</td>\n",
       "      <td>American</td>\n",
       "      <td>Male</td>\n",
       "      <td>1969</td>\n",
       "      <td>0</td>\n",
       "      <td>2689</td>\n",
       "      <td>Andy Warhol Doesn't Play Second Base for the C...</td>\n",
       "      <td>2010</td>\n",
       "      <td>Drawings &amp; Prints</td>\n",
       "    </tr>\n",
       "    <tr>\n",
       "      <th>2224</th>\n",
       "      <td>5281</td>\n",
       "      <td>Thomas Schütte</td>\n",
       "      <td>German</td>\n",
       "      <td>Male</td>\n",
       "      <td>1954</td>\n",
       "      <td>0</td>\n",
       "      <td>3729</td>\n",
       "      <td>Woodcuts</td>\n",
       "      <td>2011</td>\n",
       "      <td>Drawings &amp; Prints</td>\n",
       "    </tr>\n",
       "    <tr>\n",
       "      <th>6167</th>\n",
       "      <td>67458</td>\n",
       "      <td>Antoni Llena</td>\n",
       "      <td>Spanish</td>\n",
       "      <td>Male</td>\n",
       "      <td>1942</td>\n",
       "      <td>0</td>\n",
       "      <td>5670</td>\n",
       "      <td>S.O.S. Smoke Signals from Underground (SOS. Se...</td>\n",
       "      <td>2016</td>\n",
       "      <td>Drawings &amp; Prints</td>\n",
       "    </tr>\n",
       "    <tr>\n",
       "      <th>5938</th>\n",
       "      <td>49682</td>\n",
       "      <td>Fazal Sheikh</td>\n",
       "      <td>American</td>\n",
       "      <td>Male</td>\n",
       "      <td>1965</td>\n",
       "      <td>0</td>\n",
       "      <td>5188</td>\n",
       "      <td>Independence/Nakba</td>\n",
       "      <td>2013</td>\n",
       "      <td>Photography</td>\n",
       "    </tr>\n",
       "    <tr>\n",
       "      <th>4974</th>\n",
       "      <td>33825</td>\n",
       "      <td>Aleksandra Mir</td>\n",
       "      <td>American</td>\n",
       "      <td>Female</td>\n",
       "      <td>1967</td>\n",
       "      <td>0</td>\n",
       "      <td>3199</td>\n",
       "      <td>Letterhead and envelopes designed by Steve Laf...</td>\n",
       "      <td>2003</td>\n",
       "      <td>Drawings &amp; Prints</td>\n",
       "    </tr>\n",
       "    <tr>\n",
       "      <th>2895</th>\n",
       "      <td>7679</td>\n",
       "      <td>Kara Walker</td>\n",
       "      <td>American</td>\n",
       "      <td>Female</td>\n",
       "      <td>1969</td>\n",
       "      <td>0</td>\n",
       "      <td>1053</td>\n",
       "      <td>Harper's Pictorial History of the Civil War (A...</td>\n",
       "      <td>2005</td>\n",
       "      <td>Drawings &amp; Prints</td>\n",
       "    </tr>\n",
       "  </tbody>\n",
       "</table>\n",
       "</div>"
      ],
      "text/plain": [
       "      artist_id       artist_name nationality  gender  year_start  year_end  \\\n",
       "3472       8193     James Welling    American    Male        1951         0   \n",
       "4684      28874       Wade Guyton    American    Male        1972         0   \n",
       "4947      33825    Aleksandra Mir    American  Female        1967         0   \n",
       "1138        710  Louise Bourgeois    American  Female        1911      2010   \n",
       "4620      28847     Kelley Walker    American    Male        1969         0   \n",
       "2224       5281    Thomas Schütte      German    Male        1954         0   \n",
       "6167      67458      Antoni Llena     Spanish    Male        1942         0   \n",
       "5938      49682      Fazal Sheikh    American    Male        1965         0   \n",
       "4974      33825    Aleksandra Mir    American  Female        1967         0   \n",
       "2895       7679       Kara Walker    American  Female        1969         0   \n",
       "\n",
       "      artwork_id                                              title  \\\n",
       "3472        4207                                                 30   \n",
       "4684        5401  Untitled (Untitled, 2013, Epson UltraChrome K3...   \n",
       "4947        3172    Homeboys greeting card, The Wrong Gallery, 2003   \n",
       "1138        3607  Untitled, plate 14 of 15, from the series, Nat...   \n",
       "4620        2689  Andy Warhol Doesn't Play Second Base for the C...   \n",
       "2224        3729                                           Woodcuts   \n",
       "6167        5670  S.O.S. Smoke Signals from Underground (SOS. Se...   \n",
       "5938        5188                                 Independence/Nakba   \n",
       "4974        3199  Letterhead and envelopes designed by Steve Laf...   \n",
       "2895        1053  Harper's Pictorial History of the Civil War (A...   \n",
       "\n",
       "      year_completed         department  \n",
       "3472            2009        Photography  \n",
       "4684            2015  Drawings & Prints  \n",
       "4947            2003  Drawings & Prints  \n",
       "1138            2009  Drawings & Prints  \n",
       "4620            2010  Drawings & Prints  \n",
       "2224            2011  Drawings & Prints  \n",
       "6167            2016  Drawings & Prints  \n",
       "5938            2013        Photography  \n",
       "4974            2003  Drawings & Prints  \n",
       "2895            2005  Drawings & Prints  "
      ]
     },
     "execution_count": 19,
     "metadata": {},
     "output_type": "execute_result"
    }
   ],
   "source": [
    "df.sample(10)"
   ]
  },
  {
   "cell_type": "code",
   "execution_count": 20,
   "metadata": {},
   "outputs": [],
   "source": [
    "df = df[df['title'].str.contains('Untitled')==False ]"
   ]
  },
  {
   "cell_type": "code",
   "execution_count": 21,
   "metadata": {},
   "outputs": [
    {
     "data": {
      "text/html": [
       "<div>\n",
       "<style scoped>\n",
       "    .dataframe tbody tr th:only-of-type {\n",
       "        vertical-align: middle;\n",
       "    }\n",
       "\n",
       "    .dataframe tbody tr th {\n",
       "        vertical-align: top;\n",
       "    }\n",
       "\n",
       "    .dataframe thead th {\n",
       "        text-align: right;\n",
       "    }\n",
       "</style>\n",
       "<table border=\"1\" class=\"dataframe\">\n",
       "  <thead>\n",
       "    <tr style=\"text-align: right;\">\n",
       "      <th></th>\n",
       "      <th>artist_id</th>\n",
       "      <th>artist_name</th>\n",
       "      <th>nationality</th>\n",
       "      <th>gender</th>\n",
       "      <th>year_start</th>\n",
       "      <th>year_end</th>\n",
       "      <th>artwork_id</th>\n",
       "      <th>title</th>\n",
       "      <th>year_completed</th>\n",
       "      <th>department</th>\n",
       "    </tr>\n",
       "  </thead>\n",
       "  <tbody>\n",
       "    <tr>\n",
       "      <th>1920</th>\n",
       "      <td>4671</td>\n",
       "      <td>Sigmar Polke</td>\n",
       "      <td>German</td>\n",
       "      <td>Male</td>\n",
       "      <td>1941</td>\n",
       "      <td>2010</td>\n",
       "      <td>5159</td>\n",
       "      <td>Full Moon in Aries (Vollmond im Widder)</td>\n",
       "      <td>2004</td>\n",
       "      <td>Drawings &amp; Prints</td>\n",
       "    </tr>\n",
       "    <tr>\n",
       "      <th>3463</th>\n",
       "      <td>8193</td>\n",
       "      <td>James Welling</td>\n",
       "      <td>American</td>\n",
       "      <td>Male</td>\n",
       "      <td>1951</td>\n",
       "      <td>0</td>\n",
       "      <td>3624</td>\n",
       "      <td>Frolic Architecture</td>\n",
       "      <td>2009</td>\n",
       "      <td>Drawings &amp; Prints</td>\n",
       "    </tr>\n",
       "    <tr>\n",
       "      <th>862</th>\n",
       "      <td>710</td>\n",
       "      <td>Louise Bourgeois</td>\n",
       "      <td>American</td>\n",
       "      <td>Female</td>\n",
       "      <td>1911</td>\n",
       "      <td>2010</td>\n",
       "      <td>3278</td>\n",
       "      <td>The Ladders</td>\n",
       "      <td>2006</td>\n",
       "      <td>Drawings &amp; Prints</td>\n",
       "    </tr>\n",
       "    <tr>\n",
       "      <th>2350</th>\n",
       "      <td>5983</td>\n",
       "      <td>Richard Tuttle</td>\n",
       "      <td>American</td>\n",
       "      <td>Male</td>\n",
       "      <td>1941</td>\n",
       "      <td>0</td>\n",
       "      <td>1294</td>\n",
       "      <td>Saturday from Censorship</td>\n",
       "      <td>2003</td>\n",
       "      <td>Drawings &amp; Prints</td>\n",
       "    </tr>\n",
       "    <tr>\n",
       "      <th>2215</th>\n",
       "      <td>5281</td>\n",
       "      <td>Thomas Schütte</td>\n",
       "      <td>German</td>\n",
       "      <td>Male</td>\n",
       "      <td>1954</td>\n",
       "      <td>0</td>\n",
       "      <td>3145</td>\n",
       "      <td>Low Tide Wandering No. 133 (Wattwanderung No. ...</td>\n",
       "      <td>2001</td>\n",
       "      <td>Drawings &amp; Prints</td>\n",
       "    </tr>\n",
       "    <tr>\n",
       "      <th>5839</th>\n",
       "      <td>48289</td>\n",
       "      <td>Alice Attie</td>\n",
       "      <td>American</td>\n",
       "      <td>Female</td>\n",
       "      <td>1950</td>\n",
       "      <td>0</td>\n",
       "      <td>4741</td>\n",
       "      <td>European Social Thought</td>\n",
       "      <td>2011</td>\n",
       "      <td>Drawings &amp; Prints</td>\n",
       "    </tr>\n",
       "    <tr>\n",
       "      <th>2734</th>\n",
       "      <td>7480</td>\n",
       "      <td>Enrique Chagoya</td>\n",
       "      <td>Mexican</td>\n",
       "      <td>Male</td>\n",
       "      <td>1953</td>\n",
       "      <td>0</td>\n",
       "      <td>4241</td>\n",
       "      <td>Que sacrificio!/What a sacrifice! from Recurre...</td>\n",
       "      <td>2012</td>\n",
       "      <td>Drawings &amp; Prints</td>\n",
       "    </tr>\n",
       "    <tr>\n",
       "      <th>26</th>\n",
       "      <td>710</td>\n",
       "      <td>Louise Bourgeois</td>\n",
       "      <td>American</td>\n",
       "      <td>Female</td>\n",
       "      <td>1911</td>\n",
       "      <td>2010</td>\n",
       "      <td>34</td>\n",
       "      <td>The Smell of the Feet</td>\n",
       "      <td>2000</td>\n",
       "      <td>Drawings &amp; Prints</td>\n",
       "    </tr>\n",
       "    <tr>\n",
       "      <th>2652</th>\n",
       "      <td>7122</td>\n",
       "      <td>Guillermo Kuitca</td>\n",
       "      <td>Argentine</td>\n",
       "      <td>Male</td>\n",
       "      <td>1961</td>\n",
       "      <td>0</td>\n",
       "      <td>317</td>\n",
       "      <td>Lincoln Center Triptych</td>\n",
       "      <td>2002</td>\n",
       "      <td>Drawings &amp; Prints</td>\n",
       "    </tr>\n",
       "    <tr>\n",
       "      <th>2883</th>\n",
       "      <td>7639</td>\n",
       "      <td>Ellen Gallagher</td>\n",
       "      <td>American</td>\n",
       "      <td>Female</td>\n",
       "      <td>1965</td>\n",
       "      <td>0</td>\n",
       "      <td>503</td>\n",
       "      <td>Watery Ecstatic (21 06 S, 53 36 E)</td>\n",
       "      <td>2003</td>\n",
       "      <td>Drawings &amp; Prints</td>\n",
       "    </tr>\n",
       "  </tbody>\n",
       "</table>\n",
       "</div>"
      ],
      "text/plain": [
       "      artist_id       artist_name nationality  gender  year_start  year_end  \\\n",
       "1920       4671      Sigmar Polke      German    Male        1941      2010   \n",
       "3463       8193     James Welling    American    Male        1951         0   \n",
       "862         710  Louise Bourgeois    American  Female        1911      2010   \n",
       "2350       5983    Richard Tuttle    American    Male        1941         0   \n",
       "2215       5281    Thomas Schütte      German    Male        1954         0   \n",
       "5839      48289       Alice Attie    American  Female        1950         0   \n",
       "2734       7480   Enrique Chagoya     Mexican    Male        1953         0   \n",
       "26          710  Louise Bourgeois    American  Female        1911      2010   \n",
       "2652       7122  Guillermo Kuitca   Argentine    Male        1961         0   \n",
       "2883       7639   Ellen Gallagher    American  Female        1965         0   \n",
       "\n",
       "      artwork_id                                              title  \\\n",
       "1920        5159            Full Moon in Aries (Vollmond im Widder)   \n",
       "3463        3624                                Frolic Architecture   \n",
       "862         3278                                        The Ladders   \n",
       "2350        1294                           Saturday from Censorship   \n",
       "2215        3145  Low Tide Wandering No. 133 (Wattwanderung No. ...   \n",
       "5839        4741                            European Social Thought   \n",
       "2734        4241  Que sacrificio!/What a sacrifice! from Recurre...   \n",
       "26            34                              The Smell of the Feet   \n",
       "2652         317                            Lincoln Center Triptych   \n",
       "2883         503                 Watery Ecstatic (21 06 S, 53 36 E)   \n",
       "\n",
       "      year_completed         department  \n",
       "1920            2004  Drawings & Prints  \n",
       "3463            2009  Drawings & Prints  \n",
       "862             2006  Drawings & Prints  \n",
       "2350            2003  Drawings & Prints  \n",
       "2215            2001  Drawings & Prints  \n",
       "5839            2011  Drawings & Prints  \n",
       "2734            2012  Drawings & Prints  \n",
       "26              2000  Drawings & Prints  \n",
       "2652            2002  Drawings & Prints  \n",
       "2883            2003  Drawings & Prints  "
      ]
     },
     "execution_count": 21,
     "metadata": {},
     "output_type": "execute_result"
    }
   ],
   "source": [
    "df.sample(10)"
   ]
  },
  {
   "cell_type": "code",
   "execution_count": 22,
   "metadata": {},
   "outputs": [
    {
     "name": "stdout",
     "output_type": "stream",
     "text": [
      "2000\n"
     ]
    }
   ],
   "source": [
    "print(min(df['year_completed']))"
   ]
  },
  {
   "cell_type": "code",
   "execution_count": 23,
   "metadata": {},
   "outputs": [
    {
     "name": "stdout",
     "output_type": "stream",
     "text": [
      "['American', 'British', 'Italian', 'German', 'Swiss', 'Sudanese', 'Argentine', 'Mexican', 'Portuguese', 'Scottish', 'Brazilian', 'South African', 'Pakistani', 'Polish', 'Belgian', 'Canadian', 'French', 'Colombian', 'Chinese', 'Kenyan', 'Spanish', 'Finnish', 'Cuban', 'Albanian', 'Dutch', 'Indian', 'Korean', 'Cameroonian', 'Egyptian', 'Chilean', 'Native American']\n"
     ]
    }
   ],
   "source": [
    "print(list(df['nationality'].unique()))"
   ]
  },
  {
   "cell_type": "code",
   "execution_count": 24,
   "metadata": {},
   "outputs": [
    {
     "name": "stdout",
     "output_type": "stream",
     "text": [
      "38\n"
     ]
    }
   ],
   "source": [
    "print(df['gender'].isna().sum().sum())"
   ]
  },
  {
   "cell_type": "code",
   "execution_count": 37,
   "metadata": {},
   "outputs": [
    {
     "data": {
      "text/plain": [
       "<bound method IndexOpsMixin.value_counts of 0       2002\n",
       "1       2008\n",
       "2       2009\n",
       "3       2004\n",
       "4       2007\n",
       "        ... \n",
       "6320    2019\n",
       "6321    2019\n",
       "6322    2019\n",
       "6323    2019\n",
       "6324    2019\n",
       "Name: year_completed, Length: 4124, dtype: int64>"
      ]
     },
     "execution_count": 37,
     "metadata": {},
     "output_type": "execute_result"
    }
   ],
   "source": [
    "df['year_completed'].value_counts"
   ]
  },
  {
   "cell_type": "markdown",
   "metadata": {},
   "source": []
  },
  {
   "cell_type": "code",
   "execution_count": 33,
   "metadata": {},
   "outputs": [
    {
     "ename": "TypeError",
     "evalue": "'method' object is not subscriptable",
     "output_type": "error",
     "traceback": [
      "\u001b[0;31m---------------------------------------------------------------------------\u001b[0m",
      "\u001b[0;31mTypeError\u001b[0m                                 Traceback (most recent call last)",
      "Cell \u001b[0;32mIn [33], line 1\u001b[0m\n\u001b[0;32m----> 1\u001b[0m \u001b[39mprint\u001b[39m(df_grouped[\u001b[39m'\u001b[39;49m\u001b[39mgender\u001b[39;49m\u001b[39m'\u001b[39;49m])\n",
      "\u001b[0;31mTypeError\u001b[0m: 'method' object is not subscriptable"
     ]
    }
   ],
   "source": [
    "print(df_grouped['gender'])"
   ]
  }
 ],
 "metadata": {
  "kernelspec": {
   "display_name": "Python 3",
   "language": "python",
   "name": "python3"
  },
  "language_info": {
   "codemirror_mode": {
    "name": "ipython",
    "version": 3
   },
   "file_extension": ".py",
   "mimetype": "text/x-python",
   "name": "python",
   "nbconvert_exporter": "python",
   "pygments_lexer": "ipython3",
   "version": "3.10.8"
  },
  "orig_nbformat": 4,
  "vscode": {
   "interpreter": {
    "hash": "b0fa6594d8f4cbf19f97940f81e996739fb7646882a419484c72d19e05852a7e"
   }
  }
 },
 "nbformat": 4,
 "nbformat_minor": 2
}
